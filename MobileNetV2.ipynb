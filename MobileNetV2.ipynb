{
 "cells": [
  {
   "cell_type": "code",
   "execution_count": 1,
   "metadata": {},
   "outputs": [],
   "source": [
    "import numpy as np\n",
    "import tensorflow as tf\n",
    "import matplotlib.pyplot as plt\n",
    "from sklearn.metrics import classification_report\n",
    "from tensorflow.keras.models import Sequential, Model\n",
    "from tensorflow.keras.layers import Input\n",
    "from tensorflow.keras.layers import Dense, Flatten, BatchNormalization, Dropout, Activation, Conv2D, MaxPool2D, GlobalAveragePooling2D\n",
    "from tensorflow.keras.callbacks import TensorBoard\n",
    "from tensorflow.keras.applications.inception_v3 import InceptionV3\n",
    "\n",
    "from dataset import getDataset\n",
    "from keras.preprocessing.image import ImageDataGenerator\n",
    "from tensorflow.keras.utils import to_categorical\n",
    "\n",
    "import os\n",
    "import cv2\n",
    "import time\n",
    "import random"
   ]
  },
  {
   "cell_type": "code",
   "execution_count": 2,
   "metadata": {},
   "outputs": [
    {
     "name": "stdout",
     "output_type": "stream",
     "text": [
      "(92, 224, 224, 3) (92, 1)\n"
     ]
    },
    {
     "name": "stderr",
     "output_type": "stream",
     "text": [
      "/home/roshan_/anaconda3/envs/tf-gpu/lib/python3.9/site-packages/keras_preprocessing/image/image_data_generator.py:720: UserWarning: This ImageDataGenerator specifies `featurewise_center`, but it hasn't been fit on any training data. Fit it first by calling `.fit(numpy_data)`.\n",
      "  warnings.warn('This ImageDataGenerator specifies '\n",
      "/home/roshan_/anaconda3/envs/tf-gpu/lib/python3.9/site-packages/keras_preprocessing/image/image_data_generator.py:728: UserWarning: This ImageDataGenerator specifies `featurewise_std_normalization`, but it hasn't been fit on any training data. Fit it first by calling `.fit(numpy_data)`.\n",
      "  warnings.warn('This ImageDataGenerator specifies '\n"
     ]
    },
    {
     "data": {
      "text/plain": [
       "((1012, 224, 224, 3), (1012, 1))"
      ]
     },
     "execution_count": 2,
     "metadata": {},
     "output_type": "execute_result"
    }
   ],
   "source": [
    "IMG_SIZE = 224\n",
    "\n",
    "X, y = getDataset(IMG_SIZE)\n",
    "\n",
    "print(X.shape, y.shape)\n",
    "\n",
    "datagen = ImageDataGenerator(\n",
    "    featurewise_center=True,\n",
    "    featurewise_std_normalization=True,\n",
    "    rotation_range=20,\n",
    "    width_shift_range=0.2,\n",
    "    height_shift_range=0.2,\n",
    "    horizontal_flip=True,\n",
    "    validation_split=0.2)\n",
    "\n",
    "\n",
    "X_aug, y_aug = [], []\n",
    "\n",
    "cnt = 0\n",
    "for _X, _y in datagen.flow(X, y):    \n",
    "    for i in range(_X.shape[0]):\n",
    "        cnt += 1\n",
    "        X_aug.append(_X[i])\n",
    "        y_aug.append(_y[i])\n",
    "    \n",
    "    if cnt >= 1000:\n",
    "        break\n",
    "\n",
    "X = np.array(X_aug).reshape(-1, IMG_SIZE, IMG_SIZE, 3)\n",
    "y = np.array(y_aug).reshape(-1, 1)\n",
    "\n",
    "X.shape, y.shape"
   ]
  },
  {
   "cell_type": "code",
   "execution_count": 3,
   "metadata": {},
   "outputs": [
    {
     "name": "stdout",
     "output_type": "stream",
     "text": [
      "WARNING:tensorflow:`input_shape` is undefined or non-square, or `rows` is not in [96, 128, 160, 192, 224]. Weights for input shape (224, 224) will be loaded as the default.\n",
      "1012 (1, 7, 7, 1280)\n"
     ]
    },
    {
     "data": {
      "text/plain": [
       "((1012, 7, 7, 1280), (1012, 1))"
      ]
     },
     "execution_count": 3,
     "metadata": {},
     "output_type": "execute_result"
    }
   ],
   "source": [
    "from tensorflow.keras.applications.mobilenet_v2 import MobileNetV2, preprocess_input\n",
    "from tensorflow.keras.preprocessing import image\n",
    "import numpy as np\n",
    "\n",
    "model = MobileNetV2(weights='imagenet', include_top=False)\n",
    "\n",
    "X_features = []\n",
    "for img in X:\n",
    "    x = image.img_to_array(img)\n",
    "    x = np.expand_dims(x, axis=0)\n",
    "    x = preprocess_input(x)\n",
    "    features = model.predict(x)\n",
    "    \n",
    "    X_features.append(features)\n",
    "\n",
    "print(len(X_features), X_features[0].shape)\n",
    "\n",
    "h, w, c = X_features[0].shape[1:]\n",
    "X = np.array(X_features).reshape(-1, h, w, c)\n",
    "X.shape, y.shape"
   ]
  },
  {
   "cell_type": "code",
   "execution_count": 4,
   "metadata": {},
   "outputs": [
    {
     "name": "stdout",
     "output_type": "stream",
     "text": [
      "Model: \"sequential\"\n",
      "_________________________________________________________________\n",
      "Layer (type)                 Output Shape              Param #   \n",
      "=================================================================\n",
      "flatten (Flatten)            (None, 62720)             0         \n",
      "_________________________________________________________________\n",
      "dense (Dense)                (None, 64)                4014144   \n",
      "_________________________________________________________________\n",
      "activation (Activation)      (None, 64)                0         \n",
      "_________________________________________________________________\n",
      "dropout (Dropout)            (None, 64)                0         \n",
      "_________________________________________________________________\n",
      "dense_1 (Dense)              (None, 16)                1040      \n",
      "_________________________________________________________________\n",
      "activation_1 (Activation)    (None, 16)                0         \n",
      "_________________________________________________________________\n",
      "dropout_1 (Dropout)          (None, 16)                0         \n",
      "_________________________________________________________________\n",
      "dense_2 (Dense)              (None, 1)                 17        \n",
      "_________________________________________________________________\n",
      "activation_2 (Activation)    (None, 1)                 0         \n",
      "=================================================================\n",
      "Total params: 4,015,201\n",
      "Trainable params: 4,015,201\n",
      "Non-trainable params: 0\n",
      "_________________________________________________________________\n"
     ]
    }
   ],
   "source": [
    "model = Sequential()\n",
    "\n",
    "model.add(Flatten(input_shape=(X.shape[1:])))\n",
    "\n",
    "model.add(Dense(64))\n",
    "model.add(Activation('relu'))\n",
    "model.add(Dropout(0.2))\n",
    "\n",
    "model.add(Dense(16))\n",
    "model.add(Activation('relu'))\n",
    "model.add(Dropout(0.2))\n",
    "\n",
    "model.add(Dense(1))\n",
    "model.add(Activation('sigmoid'))\n",
    "\n",
    "model.compile(optimizer='adam',\n",
    "             loss='binary_crossentropy',\n",
    "             metrics=['accuracy'])\n",
    "\n",
    "model.summary()"
   ]
  },
  {
   "cell_type": "code",
   "execution_count": 5,
   "metadata": {},
   "outputs": [
    {
     "name": "stdout",
     "output_type": "stream",
     "text": [
      "Epoch 1/50\n",
      "23/23 [==============================] - 1s 31ms/step - loss: 0.7525 - accuracy: 0.8206 - val_loss: 0.0814 - val_accuracy: 0.9605\n",
      "Epoch 2/50\n",
      "23/23 [==============================] - 0s 21ms/step - loss: 0.1592 - accuracy: 0.9605 - val_loss: 0.0202 - val_accuracy: 0.9934\n",
      "Epoch 3/50\n",
      "23/23 [==============================] - 0s 22ms/step - loss: 0.0701 - accuracy: 0.9788 - val_loss: 0.0024 - val_accuracy: 1.0000\n",
      "Epoch 4/50\n",
      "23/23 [==============================] - 0s 21ms/step - loss: 0.0523 - accuracy: 0.9774 - val_loss: 0.0013 - val_accuracy: 1.0000\n",
      "Epoch 5/50\n",
      "23/23 [==============================] - 0s 21ms/step - loss: 0.0662 - accuracy: 0.9816 - val_loss: 6.6306e-05 - val_accuracy: 1.0000\n",
      "Epoch 6/50\n",
      "23/23 [==============================] - 0s 21ms/step - loss: 0.0379 - accuracy: 0.9859 - val_loss: 0.0028 - val_accuracy: 0.9967\n",
      "Epoch 7/50\n",
      "23/23 [==============================] - 1s 22ms/step - loss: 0.0621 - accuracy: 0.9873 - val_loss: 3.9389e-06 - val_accuracy: 1.0000\n",
      "Epoch 8/50\n",
      "23/23 [==============================] - 1s 22ms/step - loss: 0.0601 - accuracy: 0.9915 - val_loss: 0.0014 - val_accuracy: 1.0000\n",
      "Epoch 9/50\n",
      "23/23 [==============================] - 0s 22ms/step - loss: 0.0287 - accuracy: 0.9873 - val_loss: 5.7899e-04 - val_accuracy: 1.0000\n",
      "Epoch 10/50\n",
      "23/23 [==============================] - 1s 23ms/step - loss: 0.0174 - accuracy: 0.9958 - val_loss: 1.2190e-08 - val_accuracy: 1.0000\n",
      "Epoch 11/50\n",
      "23/23 [==============================] - 1s 23ms/step - loss: 0.0082 - accuracy: 0.9944 - val_loss: 5.9390e-08 - val_accuracy: 1.0000\n",
      "Epoch 12/50\n",
      "23/23 [==============================] - 1s 26ms/step - loss: 9.0641e-04 - accuracy: 1.0000 - val_loss: 3.9170e-08 - val_accuracy: 1.0000\n",
      "Epoch 13/50\n",
      "23/23 [==============================] - 1s 23ms/step - loss: 0.0106 - accuracy: 0.9986 - val_loss: 3.9120e-08 - val_accuracy: 1.0000\n",
      "Epoch 14/50\n",
      "23/23 [==============================] - 0s 22ms/step - loss: 0.0039 - accuracy: 0.9986 - val_loss: 7.3844e-07 - val_accuracy: 1.0000\n",
      "Epoch 15/50\n",
      "23/23 [==============================] - 1s 23ms/step - loss: 0.0024 - accuracy: 0.9986 - val_loss: 2.8893e-10 - val_accuracy: 1.0000\n",
      "Epoch 16/50\n",
      "23/23 [==============================] - 1s 23ms/step - loss: 0.0035 - accuracy: 0.9986 - val_loss: 2.3355e-11 - val_accuracy: 1.0000\n",
      "Epoch 17/50\n",
      "23/23 [==============================] - 1s 23ms/step - loss: 0.0010 - accuracy: 1.0000 - val_loss: 2.4432e-11 - val_accuracy: 1.0000\n",
      "Epoch 18/50\n",
      "23/23 [==============================] - 1s 23ms/step - loss: 0.0052 - accuracy: 0.9972 - val_loss: 1.1253e-11 - val_accuracy: 1.0000\n",
      "Epoch 19/50\n",
      "23/23 [==============================] - 1s 24ms/step - loss: 0.0189 - accuracy: 0.9944 - val_loss: 0.0181 - val_accuracy: 0.9967\n",
      "Epoch 20/50\n",
      "23/23 [==============================] - 1s 22ms/step - loss: 0.0412 - accuracy: 0.9915 - val_loss: 0.1417 - val_accuracy: 0.9770\n",
      "Epoch 21/50\n",
      "23/23 [==============================] - 0s 22ms/step - loss: 0.0795 - accuracy: 0.9915 - val_loss: 0.0039 - val_accuracy: 0.9967\n",
      "Epoch 22/50\n",
      "23/23 [==============================] - 0s 22ms/step - loss: 0.1671 - accuracy: 0.9901 - val_loss: 5.4247e-05 - val_accuracy: 1.0000\n",
      "Epoch 23/50\n",
      "23/23 [==============================] - 1s 22ms/step - loss: 0.0245 - accuracy: 0.9915 - val_loss: 0.0029 - val_accuracy: 1.0000\n",
      "Epoch 24/50\n",
      "23/23 [==============================] - 1s 23ms/step - loss: 0.0073 - accuracy: 0.9958 - val_loss: 5.9045e-05 - val_accuracy: 1.0000\n",
      "Epoch 25/50\n",
      "23/23 [==============================] - 1s 23ms/step - loss: 0.0077 - accuracy: 0.9972 - val_loss: 3.5186e-06 - val_accuracy: 1.0000\n",
      "Epoch 26/50\n",
      "23/23 [==============================] - 1s 23ms/step - loss: 0.0061 - accuracy: 0.9972 - val_loss: 4.5772e-06 - val_accuracy: 1.0000\n",
      "Epoch 27/50\n",
      "23/23 [==============================] - 1s 23ms/step - loss: 0.0031 - accuracy: 0.9986 - val_loss: 5.3518e-06 - val_accuracy: 1.0000\n",
      "Epoch 28/50\n",
      "23/23 [==============================] - 1s 22ms/step - loss: 0.0051 - accuracy: 0.9986 - val_loss: 5.7849e-06 - val_accuracy: 1.0000\n",
      "Epoch 29/50\n",
      "23/23 [==============================] - 1s 22ms/step - loss: 0.0027 - accuracy: 1.0000 - val_loss: 6.0426e-06 - val_accuracy: 1.0000\n",
      "Epoch 30/50\n",
      "23/23 [==============================] - 1s 22ms/step - loss: 0.0024 - accuracy: 0.9986 - val_loss: 4.7005e-06 - val_accuracy: 1.0000\n",
      "Epoch 31/50\n",
      "23/23 [==============================] - 1s 22ms/step - loss: 0.0013 - accuracy: 0.9986 - val_loss: 3.7185e-06 - val_accuracy: 1.0000\n",
      "Epoch 32/50\n",
      "23/23 [==============================] - 1s 22ms/step - loss: 0.0266 - accuracy: 0.9972 - val_loss: 5.6909e-06 - val_accuracy: 1.0000\n",
      "Epoch 33/50\n",
      "23/23 [==============================] - 1s 25ms/step - loss: 0.0081 - accuracy: 0.9972 - val_loss: 6.5495e-05 - val_accuracy: 1.0000\n",
      "Epoch 34/50\n",
      "23/23 [==============================] - 1s 22ms/step - loss: 0.0197 - accuracy: 0.9958 - val_loss: 1.8556e-05 - val_accuracy: 1.0000\n",
      "Epoch 35/50\n",
      "23/23 [==============================] - 1s 24ms/step - loss: 0.0050 - accuracy: 0.9986 - val_loss: 2.4261e-07 - val_accuracy: 1.0000\n",
      "Epoch 36/50\n",
      "23/23 [==============================] - 1s 22ms/step - loss: 0.0010 - accuracy: 1.0000 - val_loss: 1.4742e-07 - val_accuracy: 1.0000\n",
      "Epoch 37/50\n",
      "23/23 [==============================] - 0s 22ms/step - loss: 0.0094 - accuracy: 0.9958 - val_loss: 3.6642e-08 - val_accuracy: 1.0000\n",
      "Epoch 38/50\n",
      "23/23 [==============================] - 1s 23ms/step - loss: 4.4048e-05 - accuracy: 1.0000 - val_loss: 3.0888e-09 - val_accuracy: 1.0000\n",
      "Epoch 39/50\n",
      "23/23 [==============================] - 1s 22ms/step - loss: 3.2851e-04 - accuracy: 1.0000 - val_loss: 3.9676e-09 - val_accuracy: 1.0000\n",
      "Epoch 40/50\n",
      "23/23 [==============================] - 1s 22ms/step - loss: 0.0066 - accuracy: 0.9972 - val_loss: 2.6245e-09 - val_accuracy: 1.0000\n",
      "Epoch 41/50\n",
      "23/23 [==============================] - 1s 23ms/step - loss: 0.0071 - accuracy: 0.9972 - val_loss: 2.8381e-06 - val_accuracy: 1.0000\n",
      "Epoch 42/50\n",
      "23/23 [==============================] - 1s 23ms/step - loss: 0.0022 - accuracy: 0.9986 - val_loss: 5.3399e-05 - val_accuracy: 1.0000\n",
      "Epoch 43/50\n",
      "23/23 [==============================] - 1s 24ms/step - loss: 0.0054 - accuracy: 0.9958 - val_loss: 6.6904e-06 - val_accuracy: 1.0000\n",
      "Epoch 44/50\n",
      "23/23 [==============================] - 1s 22ms/step - loss: 0.0032 - accuracy: 0.9986 - val_loss: 4.5354e-07 - val_accuracy: 1.0000\n",
      "Epoch 45/50\n",
      "23/23 [==============================] - 1s 22ms/step - loss: 0.0017 - accuracy: 1.0000 - val_loss: 2.0527e-08 - val_accuracy: 1.0000\n",
      "Epoch 46/50\n",
      "23/23 [==============================] - 1s 23ms/step - loss: 0.0015 - accuracy: 1.0000 - val_loss: 1.1768e-08 - val_accuracy: 1.0000\n",
      "Epoch 47/50\n",
      "23/23 [==============================] - 1s 23ms/step - loss: 0.0041 - accuracy: 0.9972 - val_loss: 9.5817e-09 - val_accuracy: 1.0000\n",
      "Epoch 48/50\n",
      "23/23 [==============================] - 1s 22ms/step - loss: 0.0014 - accuracy: 0.9986 - val_loss: 8.1604e-09 - val_accuracy: 1.0000\n",
      "Epoch 49/50\n",
      "23/23 [==============================] - 1s 24ms/step - loss: 0.0025 - accuracy: 1.0000 - val_loss: 5.9682e-09 - val_accuracy: 1.0000\n",
      "Epoch 50/50\n",
      "23/23 [==============================] - 1s 24ms/step - loss: 0.0019 - accuracy: 0.9986 - val_loss: 3.0467e-09 - val_accuracy: 1.0000\n"
     ]
    }
   ],
   "source": [
    "history = model.fit(X, y, validation_split=0.3, batch_size=32, epochs=50, shuffle=True)"
   ]
  },
  {
   "cell_type": "code",
   "execution_count": null,
   "metadata": {},
   "outputs": [],
   "source": []
  }
 ],
 "metadata": {
  "kernelspec": {
   "display_name": "Python 3",
   "language": "python",
   "name": "python3"
  },
  "language_info": {
   "codemirror_mode": {
    "name": "ipython",
    "version": 3
   },
   "file_extension": ".py",
   "mimetype": "text/x-python",
   "name": "python",
   "nbconvert_exporter": "python",
   "pygments_lexer": "ipython3",
   "version": "3.8.3"
  }
 },
 "nbformat": 4,
 "nbformat_minor": 4
}
