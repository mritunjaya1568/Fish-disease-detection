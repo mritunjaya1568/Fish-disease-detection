{
 "cells": [
  {
   "cell_type": "code",
   "execution_count": 1,
   "metadata": {},
   "outputs": [],
   "source": [
    "import numpy as np\n",
    "import tensorflow as tf\n",
    "import matplotlib.pyplot as plt\n",
    "from sklearn.metrics import classification_report\n",
    "from tensorflow.keras.models import Sequential, Model\n",
    "from tensorflow.keras.layers import Input\n",
    "from tensorflow.keras.layers import Dense, Flatten, BatchNormalization, Dropout, Activation, Conv2D, MaxPool2D, GlobalAveragePooling2D\n",
    "from tensorflow.keras.callbacks import TensorBoard\n",
    "from tensorflow.keras.applications.inception_v3 import InceptionV3\n",
    "\n",
    "from dataset import getDataset\n",
    "from keras.preprocessing.image import ImageDataGenerator\n",
    "from tensorflow.keras.utils import to_categorical\n",
    "\n",
    "import os\n",
    "import cv2\n",
    "import time\n",
    "import random"
   ]
  },
  {
   "cell_type": "code",
   "execution_count": 2,
   "metadata": {},
   "outputs": [
    {
     "name": "stdout",
     "output_type": "stream",
     "text": [
      "(92, 224, 224, 3) (92, 1)\n"
     ]
    },
    {
     "name": "stderr",
     "output_type": "stream",
     "text": [
      "/home/roshan_/anaconda3/envs/tf-gpu/lib/python3.9/site-packages/keras_preprocessing/image/image_data_generator.py:720: UserWarning: This ImageDataGenerator specifies `featurewise_center`, but it hasn't been fit on any training data. Fit it first by calling `.fit(numpy_data)`.\n",
      "  warnings.warn('This ImageDataGenerator specifies '\n",
      "/home/roshan_/anaconda3/envs/tf-gpu/lib/python3.9/site-packages/keras_preprocessing/image/image_data_generator.py:728: UserWarning: This ImageDataGenerator specifies `featurewise_std_normalization`, but it hasn't been fit on any training data. Fit it first by calling `.fit(numpy_data)`.\n",
      "  warnings.warn('This ImageDataGenerator specifies '\n"
     ]
    },
    {
     "data": {
      "text/plain": [
       "((1012, 224, 224, 3), (1012, 1))"
      ]
     },
     "execution_count": 2,
     "metadata": {},
     "output_type": "execute_result"
    }
   ],
   "source": [
    "IMG_SIZE = 224\n",
    "\n",
    "X, y = getDataset(IMG_SIZE)\n",
    "\n",
    "print(X.shape, y.shape)\n",
    "\n",
    "datagen = ImageDataGenerator(\n",
    "    featurewise_center=True,\n",
    "    featurewise_std_normalization=True,\n",
    "    rotation_range=20,\n",
    "    width_shift_range=0.2,\n",
    "    height_shift_range=0.2,\n",
    "    horizontal_flip=True,\n",
    "    validation_split=0.2)\n",
    "\n",
    "\n",
    "X_aug, y_aug = [], []\n",
    "\n",
    "cnt = 0\n",
    "for _X, _y in datagen.flow(X, y):    \n",
    "    for i in range(_X.shape[0]):\n",
    "        cnt += 1\n",
    "        X_aug.append(_X[i])\n",
    "        y_aug.append(_y[i])\n",
    "    \n",
    "    if cnt >= 1000:\n",
    "        break\n",
    "\n",
    "X = np.array(X_aug).reshape(-1, IMG_SIZE, IMG_SIZE, 3)\n",
    "y = np.array(y_aug).reshape(-1, 1)\n",
    "\n",
    "X.shape, y.shape"
   ]
  },
  {
   "cell_type": "code",
   "execution_count": 3,
   "metadata": {},
   "outputs": [
    {
     "name": "stdout",
     "output_type": "stream",
     "text": [
      "Downloading data from https://storage.googleapis.com/tensorflow/keras-applications/inception_resnet_v2/inception_resnet_v2_weights_tf_dim_ordering_tf_kernels_notop.h5\n",
      "219062272/219055592 [==============================] - 122s 1us/step\n",
      "1012 (1, 5, 5, 1536)\n"
     ]
    },
    {
     "data": {
      "text/plain": [
       "((1012, 5, 5, 1536), (1012, 1))"
      ]
     },
     "execution_count": 3,
     "metadata": {},
     "output_type": "execute_result"
    }
   ],
   "source": [
    "from tensorflow.keras.applications.inception_resnet_v2 import InceptionResNetV2, preprocess_input\n",
    "from tensorflow.keras.preprocessing import image\n",
    "import numpy as np\n",
    "\n",
    "model = InceptionResNetV2(weights='imagenet', include_top=False)\n",
    "\n",
    "X_features = []\n",
    "for img in X:\n",
    "    x = image.img_to_array(img)\n",
    "    x = np.expand_dims(x, axis=0)\n",
    "    x = preprocess_input(x)\n",
    "    features = model.predict(x)\n",
    "    \n",
    "    X_features.append(features)\n",
    "\n",
    "print(len(X_features), X_features[0].shape)\n",
    "\n",
    "h, w, c = X_features[0].shape[1:]\n",
    "X = np.array(X_features).reshape(-1, h, w, c)\n",
    "X.shape, y.shape"
   ]
  },
  {
   "cell_type": "code",
   "execution_count": 4,
   "metadata": {},
   "outputs": [
    {
     "name": "stdout",
     "output_type": "stream",
     "text": [
      "Model: \"sequential\"\n",
      "_________________________________________________________________\n",
      "Layer (type)                 Output Shape              Param #   \n",
      "=================================================================\n",
      "flatten (Flatten)            (None, 38400)             0         \n",
      "_________________________________________________________________\n",
      "dense (Dense)                (None, 64)                2457664   \n",
      "_________________________________________________________________\n",
      "activation_203 (Activation)  (None, 64)                0         \n",
      "_________________________________________________________________\n",
      "dropout (Dropout)            (None, 64)                0         \n",
      "_________________________________________________________________\n",
      "dense_1 (Dense)              (None, 16)                1040      \n",
      "_________________________________________________________________\n",
      "activation_204 (Activation)  (None, 16)                0         \n",
      "_________________________________________________________________\n",
      "dropout_1 (Dropout)          (None, 16)                0         \n",
      "_________________________________________________________________\n",
      "dense_2 (Dense)              (None, 1)                 17        \n",
      "_________________________________________________________________\n",
      "activation_205 (Activation)  (None, 1)                 0         \n",
      "=================================================================\n",
      "Total params: 2,458,721\n",
      "Trainable params: 2,458,721\n",
      "Non-trainable params: 0\n",
      "_________________________________________________________________\n"
     ]
    }
   ],
   "source": [
    "model = Sequential()\n",
    "\n",
    "model.add(Flatten(input_shape=(X.shape[1:])))\n",
    "\n",
    "model.add(Dense(64))\n",
    "model.add(Activation('relu'))\n",
    "model.add(Dropout(0.2))\n",
    "\n",
    "model.add(Dense(16))\n",
    "model.add(Activation('relu'))\n",
    "model.add(Dropout(0.2))\n",
    "\n",
    "model.add(Dense(1))\n",
    "model.add(Activation('sigmoid'))\n",
    "\n",
    "model.compile(optimizer='adam',\n",
    "             loss='binary_crossentropy',\n",
    "             metrics=['accuracy'])\n",
    "\n",
    "model.summary()"
   ]
  },
  {
   "cell_type": "code",
   "execution_count": 5,
   "metadata": {},
   "outputs": [
    {
     "name": "stdout",
     "output_type": "stream",
     "text": [
      "Epoch 1/50\n",
      "23/23 [==============================] - 1s 22ms/step - loss: 1.1714 - accuracy: 0.6568 - val_loss: 0.3172 - val_accuracy: 0.8717\n",
      "Epoch 2/50\n",
      "23/23 [==============================] - 0s 15ms/step - loss: 0.5824 - accuracy: 0.7599 - val_loss: 0.1958 - val_accuracy: 0.9178\n",
      "Epoch 3/50\n",
      "23/23 [==============================] - 0s 15ms/step - loss: 0.3702 - accuracy: 0.8475 - val_loss: 0.1560 - val_accuracy: 0.9605\n",
      "Epoch 4/50\n",
      "23/23 [==============================] - 0s 15ms/step - loss: 0.2271 - accuracy: 0.9195 - val_loss: 0.0985 - val_accuracy: 0.9638\n",
      "Epoch 5/50\n",
      "23/23 [==============================] - 0s 14ms/step - loss: 0.1724 - accuracy: 0.9266 - val_loss: 0.2425 - val_accuracy: 0.9375\n",
      "Epoch 6/50\n",
      "23/23 [==============================] - 0s 15ms/step - loss: 0.1314 - accuracy: 0.9520 - val_loss: 0.0741 - val_accuracy: 0.9737\n",
      "Epoch 7/50\n",
      "23/23 [==============================] - 0s 18ms/step - loss: 0.0922 - accuracy: 0.9703 - val_loss: 0.0328 - val_accuracy: 0.9836\n",
      "Epoch 8/50\n",
      "23/23 [==============================] - 0s 18ms/step - loss: 0.0986 - accuracy: 0.9633 - val_loss: 0.0475 - val_accuracy: 0.9901\n",
      "Epoch 9/50\n",
      "23/23 [==============================] - 0s 15ms/step - loss: 0.0408 - accuracy: 0.9831 - val_loss: 0.0272 - val_accuracy: 0.9901\n",
      "Epoch 10/50\n",
      "23/23 [==============================] - 0s 16ms/step - loss: 0.0625 - accuracy: 0.9774 - val_loss: 0.0398 - val_accuracy: 0.9901\n",
      "Epoch 11/50\n",
      "23/23 [==============================] - 0s 15ms/step - loss: 0.0179 - accuracy: 0.9944 - val_loss: 0.0893 - val_accuracy: 0.9934\n",
      "Epoch 12/50\n",
      "23/23 [==============================] - 0s 14ms/step - loss: 0.0240 - accuracy: 0.9958 - val_loss: 0.1093 - val_accuracy: 0.9901\n",
      "Epoch 13/50\n",
      "23/23 [==============================] - 0s 15ms/step - loss: 0.0528 - accuracy: 0.9859 - val_loss: 0.0873 - val_accuracy: 0.9803\n",
      "Epoch 14/50\n",
      "23/23 [==============================] - 0s 14ms/step - loss: 0.1939 - accuracy: 0.9534 - val_loss: 0.0497 - val_accuracy: 0.9868\n",
      "Epoch 15/50\n",
      "23/23 [==============================] - 0s 15ms/step - loss: 0.1045 - accuracy: 0.9562 - val_loss: 0.0755 - val_accuracy: 0.9737\n",
      "Epoch 16/50\n",
      "23/23 [==============================] - 0s 15ms/step - loss: 0.0668 - accuracy: 0.9788 - val_loss: 0.0445 - val_accuracy: 0.9934\n",
      "Epoch 17/50\n",
      "23/23 [==============================] - 0s 15ms/step - loss: 0.0265 - accuracy: 0.9831 - val_loss: 0.0732 - val_accuracy: 0.9868\n",
      "Epoch 18/50\n",
      "23/23 [==============================] - 0s 15ms/step - loss: 0.0263 - accuracy: 0.9859 - val_loss: 0.0434 - val_accuracy: 0.9868\n",
      "Epoch 19/50\n",
      "23/23 [==============================] - 0s 14ms/step - loss: 0.0371 - accuracy: 0.9901 - val_loss: 0.0415 - val_accuracy: 0.9901\n",
      "Epoch 20/50\n",
      "23/23 [==============================] - 0s 15ms/step - loss: 0.0226 - accuracy: 0.9958 - val_loss: 0.0389 - val_accuracy: 0.9934\n",
      "Epoch 21/50\n",
      "23/23 [==============================] - 0s 15ms/step - loss: 0.0169 - accuracy: 0.9944 - val_loss: 0.0321 - val_accuracy: 0.9934\n",
      "Epoch 22/50\n",
      "23/23 [==============================] - 0s 15ms/step - loss: 0.0207 - accuracy: 0.9873 - val_loss: 0.1085 - val_accuracy: 0.9901\n",
      "Epoch 23/50\n",
      "23/23 [==============================] - 0s 15ms/step - loss: 0.0250 - accuracy: 0.9929 - val_loss: 0.0571 - val_accuracy: 0.9901\n",
      "Epoch 24/50\n",
      "23/23 [==============================] - 0s 15ms/step - loss: 0.0409 - accuracy: 0.9802 - val_loss: 0.0542 - val_accuracy: 0.9967\n",
      "Epoch 25/50\n",
      "23/23 [==============================] - 0s 15ms/step - loss: 0.0127 - accuracy: 0.9958 - val_loss: 0.1825 - val_accuracy: 0.9803\n",
      "Epoch 26/50\n",
      "23/23 [==============================] - 0s 15ms/step - loss: 0.0363 - accuracy: 0.9915 - val_loss: 0.0648 - val_accuracy: 0.9967\n",
      "Epoch 27/50\n",
      "23/23 [==============================] - 0s 15ms/step - loss: 0.0203 - accuracy: 0.9915 - val_loss: 0.0672 - val_accuracy: 0.9901\n",
      "Epoch 28/50\n",
      "23/23 [==============================] - 0s 15ms/step - loss: 0.0209 - accuracy: 0.9929 - val_loss: 0.0972 - val_accuracy: 0.9868\n",
      "Epoch 29/50\n",
      "23/23 [==============================] - 0s 15ms/step - loss: 0.0212 - accuracy: 0.9944 - val_loss: 0.0868 - val_accuracy: 0.9901\n",
      "Epoch 30/50\n",
      "23/23 [==============================] - 0s 15ms/step - loss: 0.0230 - accuracy: 0.9887 - val_loss: 0.1132 - val_accuracy: 0.9737\n",
      "Epoch 31/50\n",
      "23/23 [==============================] - 0s 15ms/step - loss: 0.0348 - accuracy: 0.9929 - val_loss: 0.0520 - val_accuracy: 0.9934\n",
      "Epoch 32/50\n",
      "23/23 [==============================] - 0s 15ms/step - loss: 0.0103 - accuracy: 0.9929 - val_loss: 0.0452 - val_accuracy: 0.9934\n",
      "Epoch 33/50\n",
      "23/23 [==============================] - 0s 15ms/step - loss: 0.0097 - accuracy: 0.9972 - val_loss: 0.0573 - val_accuracy: 0.9934\n",
      "Epoch 34/50\n",
      "23/23 [==============================] - 0s 15ms/step - loss: 0.1894 - accuracy: 0.9689 - val_loss: 0.2127 - val_accuracy: 0.9638\n",
      "Epoch 35/50\n",
      "23/23 [==============================] - 0s 15ms/step - loss: 0.0883 - accuracy: 0.9746 - val_loss: 0.1182 - val_accuracy: 0.9901\n",
      "Epoch 36/50\n",
      "23/23 [==============================] - 0s 15ms/step - loss: 0.0749 - accuracy: 0.9887 - val_loss: 0.0029 - val_accuracy: 1.0000\n",
      "Epoch 37/50\n",
      "23/23 [==============================] - 0s 15ms/step - loss: 0.0414 - accuracy: 0.9802 - val_loss: 0.0970 - val_accuracy: 0.9868\n",
      "Epoch 38/50\n",
      "23/23 [==============================] - 0s 15ms/step - loss: 0.0352 - accuracy: 0.9788 - val_loss: 0.0201 - val_accuracy: 0.9934\n",
      "Epoch 39/50\n",
      "23/23 [==============================] - 0s 15ms/step - loss: 0.0237 - accuracy: 0.9859 - val_loss: 0.0572 - val_accuracy: 0.9901\n",
      "Epoch 40/50\n",
      "23/23 [==============================] - 0s 15ms/step - loss: 0.0242 - accuracy: 0.9873 - val_loss: 0.0660 - val_accuracy: 0.9901\n",
      "Epoch 41/50\n",
      "23/23 [==============================] - 0s 15ms/step - loss: 0.0956 - accuracy: 0.9718 - val_loss: 0.1358 - val_accuracy: 0.9704\n",
      "Epoch 42/50\n",
      "23/23 [==============================] - 0s 15ms/step - loss: 0.0501 - accuracy: 0.9788 - val_loss: 0.0525 - val_accuracy: 0.9836\n",
      "Epoch 43/50\n",
      "23/23 [==============================] - 0s 16ms/step - loss: 0.0353 - accuracy: 0.9859 - val_loss: 0.0553 - val_accuracy: 0.9934\n",
      "Epoch 44/50\n",
      "23/23 [==============================] - 0s 16ms/step - loss: 0.0192 - accuracy: 0.9873 - val_loss: 0.0651 - val_accuracy: 0.9770\n",
      "Epoch 45/50\n",
      "23/23 [==============================] - 0s 15ms/step - loss: 0.0326 - accuracy: 0.9831 - val_loss: 0.0323 - val_accuracy: 0.9901\n",
      "Epoch 46/50\n",
      "23/23 [==============================] - 0s 16ms/step - loss: 0.0258 - accuracy: 0.9859 - val_loss: 0.0167 - val_accuracy: 0.9967\n",
      "Epoch 47/50\n",
      "23/23 [==============================] - 0s 17ms/step - loss: 0.0238 - accuracy: 0.9845 - val_loss: 0.0540 - val_accuracy: 0.9934\n",
      "Epoch 48/50\n",
      "23/23 [==============================] - 0s 16ms/step - loss: 0.0273 - accuracy: 0.9887 - val_loss: 0.0484 - val_accuracy: 0.9901\n",
      "Epoch 49/50\n",
      "23/23 [==============================] - 0s 16ms/step - loss: 0.0154 - accuracy: 0.9873 - val_loss: 0.0529 - val_accuracy: 0.9868\n",
      "Epoch 50/50\n",
      "23/23 [==============================] - 0s 16ms/step - loss: 0.0159 - accuracy: 0.9887 - val_loss: 0.0555 - val_accuracy: 0.9967\n"
     ]
    }
   ],
   "source": [
    "history = model.fit(X, y, validation_split=0.3, batch_size=32, epochs=50, shuffle=True)"
   ]
  },
  {
   "cell_type": "code",
   "execution_count": null,
   "metadata": {},
   "outputs": [],
   "source": []
  }
 ],
 "metadata": {
  "kernelspec": {
   "display_name": "Python 3",
   "language": "python",
   "name": "python3"
  },
  "language_info": {
   "codemirror_mode": {
    "name": "ipython",
    "version": 3
   },
   "file_extension": ".py",
   "mimetype": "text/x-python",
   "name": "python",
   "nbconvert_exporter": "python",
   "pygments_lexer": "ipython3",
   "version": "3.8.3"
  }
 },
 "nbformat": 4,
 "nbformat_minor": 4
}
