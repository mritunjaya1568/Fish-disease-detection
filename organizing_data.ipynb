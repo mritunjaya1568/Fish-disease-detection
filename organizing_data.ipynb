{
 "cells": [
  {
   "cell_type": "code",
   "execution_count": 19,
   "metadata": {},
   "outputs": [],
   "source": [
    "import os\n"
   ]
  },
  {
   "cell_type": "code",
   "execution_count": 20,
   "metadata": {},
   "outputs": [],
   "source": [
    "DIR = \"dataset/Freshwater Fish Disease Dataset/\"\n"
   ]
  },
  {
   "cell_type": "code",
   "execution_count": 21,
   "metadata": {},
   "outputs": [
    {
     "name": "stdout",
     "output_type": "stream",
     "text": [
      "dataset/Freshwater Fish Disease Dataset/\n",
      "dataset/Freshwater Fish Disease Dataset/\n",
      "dataset/Freshwater Fish Disease Dataset/\n",
      "[ERROR]: [Errno 20] Not a directory: 'dataset/Freshwater Fish Disease Dataset/Description.pdf'\n",
      "dataset/Freshwater Fish Disease Dataset/\n",
      "dataset/Freshwater Fish Disease Dataset/\n",
      "dataset/Freshwater Fish Disease Dataset/\n",
      "dataset/Freshwater Fish Disease Dataset/\n",
      "dataset/Freshwater Fish Disease Dataset/\n"
     ]
    }
   ],
   "source": [
    "cntGood, cntBad = 0, 0\n",
    "for dir in os.listdir(DIR):\n",
    "    isGood = 0\n",
    "    \n",
    "    if dir == '.ipynb checkpoints': continue\n",
    "    if dir == 'Local Fish': isGood = 1\n",
    "    \n",
    "    print(DIR)\n",
    "    diseaseDIR = DIR+dir\n",
    "    try:\n",
    "        for file in os.listdir(diseaseDIR):\n",
    "            if isGood:\n",
    "                os.system(f\"cp \\\"{diseaseDIR}/{file}\\\" dataset/{isGood}/{cntGood}.jpg 2> t.txt\")\n",
    "                cntGood += 1\n",
    "            else:\n",
    "                os.system(f\"cp \\\"{diseaseDIR}/{file}\\\" dataset/{isGood}/{cntBad}.jpg 2> t.txt\")\n",
    "                cntBad += 1\n",
    "\n",
    "    except Exception as e:\n",
    "        print(\"[ERROR]: \" + str(e))\n",
    "    "
   ]
  },
  {
   "cell_type": "code",
   "execution_count": null,
   "metadata": {},
   "outputs": [],
   "source": []
  }
 ],
 "metadata": {
  "kernelspec": {
   "display_name": "Python 3",
   "language": "python",
   "name": "python3"
  },
  "language_info": {
   "codemirror_mode": {
    "name": "ipython",
    "version": 3
   },
   "file_extension": ".py",
   "mimetype": "text/x-python",
   "name": "python",
   "nbconvert_exporter": "python",
   "pygments_lexer": "ipython3",
   "version": "3.8.3"
  }
 },
 "nbformat": 4,
 "nbformat_minor": 4
}
