{
 "cells": [
  {
   "cell_type": "code",
   "execution_count": 1,
   "metadata": {},
   "outputs": [],
   "source": [
    "import numpy as np\n",
    "import tensorflow as tf\n",
    "import matplotlib.pyplot as plt\n",
    "from sklearn.metrics import classification_report\n",
    "from tensorflow.keras.models import Sequential, Model\n",
    "from tensorflow.keras.layers import Input\n",
    "from tensorflow.keras.layers import Dense, Flatten, BatchNormalization, Dropout, Activation, Conv2D, MaxPool2D, GlobalAveragePooling2D\n",
    "from tensorflow.keras.callbacks import TensorBoard\n",
    "from tensorflow.keras.applications.inception_v3 import InceptionV3\n",
    "\n",
    "from dataset import getDataset\n",
    "from keras.preprocessing.image import ImageDataGenerator\n",
    "from tensorflow.keras.utils import to_categorical\n",
    "\n",
    "import os\n",
    "import cv2\n",
    "import time\n",
    "import random"
   ]
  },
  {
   "cell_type": "code",
   "execution_count": 2,
   "metadata": {},
   "outputs": [
    {
     "name": "stdout",
     "output_type": "stream",
     "text": [
      "(92, 224, 224, 3) (92, 1)\n"
     ]
    },
    {
     "name": "stderr",
     "output_type": "stream",
     "text": [
      "/home/roshan_/anaconda3/envs/tf-gpu/lib/python3.9/site-packages/keras_preprocessing/image/image_data_generator.py:720: UserWarning: This ImageDataGenerator specifies `featurewise_center`, but it hasn't been fit on any training data. Fit it first by calling `.fit(numpy_data)`.\n",
      "  warnings.warn('This ImageDataGenerator specifies '\n",
      "/home/roshan_/anaconda3/envs/tf-gpu/lib/python3.9/site-packages/keras_preprocessing/image/image_data_generator.py:728: UserWarning: This ImageDataGenerator specifies `featurewise_std_normalization`, but it hasn't been fit on any training data. Fit it first by calling `.fit(numpy_data)`.\n",
      "  warnings.warn('This ImageDataGenerator specifies '\n"
     ]
    },
    {
     "data": {
      "text/plain": [
       "((1012, 224, 224, 3), (1012, 1))"
      ]
     },
     "execution_count": 2,
     "metadata": {},
     "output_type": "execute_result"
    }
   ],
   "source": [
    "IMG_SIZE = 224\n",
    "\n",
    "X, y = getDataset(IMG_SIZE)\n",
    "\n",
    "print(X.shape, y.shape)\n",
    "\n",
    "datagen = ImageDataGenerator(\n",
    "    featurewise_center=True,\n",
    "    featurewise_std_normalization=True,\n",
    "    rotation_range=20,\n",
    "    width_shift_range=0.2,\n",
    "    height_shift_range=0.2,\n",
    "    horizontal_flip=True,\n",
    "    validation_split=0.2)\n",
    "\n",
    "\n",
    "X_aug, y_aug = [], []\n",
    "\n",
    "cnt = 0\n",
    "for _X, _y in datagen.flow(X, y):    \n",
    "    for i in range(_X.shape[0]):\n",
    "        cnt += 1\n",
    "        X_aug.append(_X[i])\n",
    "        y_aug.append(_y[i])\n",
    "    \n",
    "    if cnt >= 1000:\n",
    "        break\n",
    "\n",
    "X = np.array(X_aug).reshape(-1, IMG_SIZE, IMG_SIZE, 3)\n",
    "y = np.array(y_aug).reshape(-1, 1)\n",
    "\n",
    "X.shape, y.shape"
   ]
  },
  {
   "cell_type": "code",
   "execution_count": 3,
   "metadata": {},
   "outputs": [
    {
     "name": "stdout",
     "output_type": "stream",
     "text": [
      "1012 (1, 5, 5, 2048)\n"
     ]
    },
    {
     "data": {
      "text/plain": [
       "((1012, 5, 5, 2048), (1012, 1))"
      ]
     },
     "execution_count": 3,
     "metadata": {},
     "output_type": "execute_result"
    }
   ],
   "source": [
    "from tensorflow.keras.applications.inception_v3 import InceptionV3, preprocess_input\n",
    "from tensorflow.keras.preprocessing import image\n",
    "import numpy as np\n",
    "\n",
    "model = InceptionV3(weights='imagenet', include_top=False)\n",
    "\n",
    "X_features = []\n",
    "for img in X:\n",
    "    x = image.img_to_array(img)\n",
    "    x = np.expand_dims(x, axis=0)\n",
    "    x = preprocess_input(x)\n",
    "    features = model.predict(x)\n",
    "    \n",
    "    X_features.append(features)\n",
    "\n",
    "print(len(X_features), X_features[0].shape)\n",
    "\n",
    "h, w, c = X_features[0].shape[1:]\n",
    "X = np.array(X_features).reshape(-1, h, w, c)\n",
    "X.shape, y.shape"
   ]
  },
  {
   "cell_type": "code",
   "execution_count": 4,
   "metadata": {},
   "outputs": [
    {
     "name": "stdout",
     "output_type": "stream",
     "text": [
      "Model: \"sequential\"\n",
      "_________________________________________________________________\n",
      "Layer (type)                 Output Shape              Param #   \n",
      "=================================================================\n",
      "flatten (Flatten)            (None, 51200)             0         \n",
      "_________________________________________________________________\n",
      "dense (Dense)                (None, 64)                3276864   \n",
      "_________________________________________________________________\n",
      "activation_94 (Activation)   (None, 64)                0         \n",
      "_________________________________________________________________\n",
      "dropout (Dropout)            (None, 64)                0         \n",
      "_________________________________________________________________\n",
      "dense_1 (Dense)              (None, 16)                1040      \n",
      "_________________________________________________________________\n",
      "activation_95 (Activation)   (None, 16)                0         \n",
      "_________________________________________________________________\n",
      "dropout_1 (Dropout)          (None, 16)                0         \n",
      "_________________________________________________________________\n",
      "dense_2 (Dense)              (None, 1)                 17        \n",
      "_________________________________________________________________\n",
      "activation_96 (Activation)   (None, 1)                 0         \n",
      "=================================================================\n",
      "Total params: 3,277,921\n",
      "Trainable params: 3,277,921\n",
      "Non-trainable params: 0\n",
      "_________________________________________________________________\n"
     ]
    }
   ],
   "source": [
    "model = Sequential()\n",
    "\n",
    "model.add(Flatten(input_shape=(X.shape[1:])))\n",
    "\n",
    "model.add(Dense(64))\n",
    "model.add(Activation('relu'))\n",
    "model.add(Dropout(0.2))\n",
    "\n",
    "model.add(Dense(16))\n",
    "model.add(Activation('relu'))\n",
    "model.add(Dropout(0.2))\n",
    "\n",
    "model.add(Dense(1))\n",
    "model.add(Activation('sigmoid'))\n",
    "\n",
    "model.compile(optimizer='adam',\n",
    "             loss='binary_crossentropy',\n",
    "             metrics=['accuracy'])\n",
    "\n",
    "model.summary()"
   ]
  },
  {
   "cell_type": "code",
   "execution_count": 5,
   "metadata": {},
   "outputs": [
    {
     "name": "stdout",
     "output_type": "stream",
     "text": [
      "Epoch 1/50\n",
      "23/23 [==============================] - 1s 30ms/step - loss: 2.3519 - accuracy: 0.6215 - val_loss: 0.1971 - val_accuracy: 0.9243\n",
      "Epoch 2/50\n",
      "23/23 [==============================] - 0s 18ms/step - loss: 0.8484 - accuracy: 0.8305 - val_loss: 0.2545 - val_accuracy: 0.9276\n",
      "Epoch 3/50\n",
      "23/23 [==============================] - 0s 18ms/step - loss: 0.3128 - accuracy: 0.9195 - val_loss: 0.0629 - val_accuracy: 0.9868\n",
      "Epoch 4/50\n",
      "23/23 [==============================] - 0s 17ms/step - loss: 0.1164 - accuracy: 0.9548 - val_loss: 0.0650 - val_accuracy: 0.9803\n",
      "Epoch 5/50\n",
      "23/23 [==============================] - 0s 17ms/step - loss: 0.1585 - accuracy: 0.9605 - val_loss: 0.0542 - val_accuracy: 0.9836\n",
      "Epoch 6/50\n",
      "23/23 [==============================] - 0s 17ms/step - loss: 0.0851 - accuracy: 0.9788 - val_loss: 0.0480 - val_accuracy: 0.9868\n",
      "Epoch 7/50\n",
      "23/23 [==============================] - 0s 17ms/step - loss: 0.1101 - accuracy: 0.9661 - val_loss: 0.3345 - val_accuracy: 0.9276\n",
      "Epoch 8/50\n",
      "23/23 [==============================] - 0s 17ms/step - loss: 0.0701 - accuracy: 0.9718 - val_loss: 0.0479 - val_accuracy: 0.9803\n",
      "Epoch 9/50\n",
      "23/23 [==============================] - 0s 17ms/step - loss: 0.0517 - accuracy: 0.9746 - val_loss: 0.0589 - val_accuracy: 0.9868\n",
      "Epoch 10/50\n",
      "23/23 [==============================] - 0s 20ms/step - loss: 0.0182 - accuracy: 0.9901 - val_loss: 0.0526 - val_accuracy: 0.9868\n",
      "Epoch 11/50\n",
      "23/23 [==============================] - 0s 19ms/step - loss: 0.0231 - accuracy: 0.9873 - val_loss: 0.0567 - val_accuracy: 0.9901\n",
      "Epoch 12/50\n",
      "23/23 [==============================] - 0s 18ms/step - loss: 0.0244 - accuracy: 0.9929 - val_loss: 0.0368 - val_accuracy: 0.9901\n",
      "Epoch 13/50\n",
      "23/23 [==============================] - 0s 18ms/step - loss: 0.0338 - accuracy: 0.9901 - val_loss: 0.0400 - val_accuracy: 0.9868\n",
      "Epoch 14/50\n",
      "23/23 [==============================] - 0s 18ms/step - loss: 0.0303 - accuracy: 0.9901 - val_loss: 0.0651 - val_accuracy: 0.9803\n",
      "Epoch 15/50\n",
      "23/23 [==============================] - 0s 18ms/step - loss: 0.0185 - accuracy: 0.9929 - val_loss: 0.0412 - val_accuracy: 0.9901\n",
      "Epoch 16/50\n",
      "23/23 [==============================] - 0s 17ms/step - loss: 0.0159 - accuracy: 0.9944 - val_loss: 0.0256 - val_accuracy: 0.9934\n",
      "Epoch 17/50\n",
      "23/23 [==============================] - 0s 18ms/step - loss: 0.0194 - accuracy: 0.9915 - val_loss: 0.0511 - val_accuracy: 0.9868\n",
      "Epoch 18/50\n",
      "23/23 [==============================] - 0s 17ms/step - loss: 0.0023 - accuracy: 1.0000 - val_loss: 0.0623 - val_accuracy: 0.9901\n",
      "Epoch 19/50\n",
      "23/23 [==============================] - 0s 17ms/step - loss: 0.0427 - accuracy: 0.9887 - val_loss: 0.2780 - val_accuracy: 0.9474\n",
      "Epoch 20/50\n",
      "23/23 [==============================] - 0s 18ms/step - loss: 0.0519 - accuracy: 0.9816 - val_loss: 0.0349 - val_accuracy: 0.9934\n",
      "Epoch 21/50\n",
      "23/23 [==============================] - 0s 18ms/step - loss: 0.0059 - accuracy: 0.9972 - val_loss: 0.0807 - val_accuracy: 0.9868\n",
      "Epoch 22/50\n",
      "23/23 [==============================] - 0s 17ms/step - loss: 0.0119 - accuracy: 0.9944 - val_loss: 0.0228 - val_accuracy: 0.9934\n",
      "Epoch 23/50\n",
      "23/23 [==============================] - 0s 18ms/step - loss: 0.0112 - accuracy: 0.9915 - val_loss: 0.0213 - val_accuracy: 0.9901\n",
      "Epoch 24/50\n",
      "23/23 [==============================] - 0s 18ms/step - loss: 0.0438 - accuracy: 0.9915 - val_loss: 0.0136 - val_accuracy: 0.9934\n",
      "Epoch 25/50\n",
      "23/23 [==============================] - 0s 20ms/step - loss: 0.0068 - accuracy: 0.9986 - val_loss: 0.0654 - val_accuracy: 0.9836\n",
      "Epoch 26/50\n",
      "23/23 [==============================] - 0s 19ms/step - loss: 0.0074 - accuracy: 0.9986 - val_loss: 0.0486 - val_accuracy: 0.9901\n",
      "Epoch 27/50\n",
      "23/23 [==============================] - 0s 18ms/step - loss: 0.0316 - accuracy: 0.9915 - val_loss: 0.0516 - val_accuracy: 0.9868\n",
      "Epoch 28/50\n",
      "23/23 [==============================] - 0s 18ms/step - loss: 0.0082 - accuracy: 0.9944 - val_loss: 0.0578 - val_accuracy: 0.9836\n",
      "Epoch 29/50\n",
      "23/23 [==============================] - 0s 18ms/step - loss: 0.0055 - accuracy: 0.9986 - val_loss: 0.0515 - val_accuracy: 0.9901\n",
      "Epoch 30/50\n",
      "23/23 [==============================] - 0s 18ms/step - loss: 0.0040 - accuracy: 0.9972 - val_loss: 0.0542 - val_accuracy: 0.9901\n",
      "Epoch 31/50\n",
      "23/23 [==============================] - 0s 18ms/step - loss: 0.0019 - accuracy: 1.0000 - val_loss: 0.0593 - val_accuracy: 0.9934\n",
      "Epoch 32/50\n",
      "23/23 [==============================] - 0s 18ms/step - loss: 0.0148 - accuracy: 0.9944 - val_loss: 0.0863 - val_accuracy: 0.9770\n",
      "Epoch 33/50\n",
      "23/23 [==============================] - 0s 18ms/step - loss: 0.0118 - accuracy: 0.9944 - val_loss: 0.2137 - val_accuracy: 0.9671\n",
      "Epoch 34/50\n",
      "23/23 [==============================] - 0s 18ms/step - loss: 0.0074 - accuracy: 0.9986 - val_loss: 0.1077 - val_accuracy: 0.9803\n",
      "Epoch 35/50\n",
      "23/23 [==============================] - 0s 19ms/step - loss: 0.0100 - accuracy: 0.9958 - val_loss: 0.2637 - val_accuracy: 0.9605\n",
      "Epoch 36/50\n",
      "23/23 [==============================] - 0s 19ms/step - loss: 0.0764 - accuracy: 0.9788 - val_loss: 0.1477 - val_accuracy: 0.9671\n",
      "Epoch 37/50\n",
      "23/23 [==============================] - 0s 19ms/step - loss: 0.0193 - accuracy: 0.9901 - val_loss: 0.0522 - val_accuracy: 0.9901\n",
      "Epoch 38/50\n",
      "23/23 [==============================] - 0s 19ms/step - loss: 0.0131 - accuracy: 0.9958 - val_loss: 0.0681 - val_accuracy: 0.9868\n",
      "Epoch 39/50\n",
      "23/23 [==============================] - 0s 20ms/step - loss: 0.0057 - accuracy: 0.9972 - val_loss: 0.0630 - val_accuracy: 0.9934\n",
      "Epoch 40/50\n",
      "23/23 [==============================] - 0s 20ms/step - loss: 0.0141 - accuracy: 0.9915 - val_loss: 0.0622 - val_accuracy: 0.9934\n",
      "Epoch 41/50\n",
      "23/23 [==============================] - 0s 19ms/step - loss: 0.0354 - accuracy: 0.9901 - val_loss: 0.0944 - val_accuracy: 0.9901\n",
      "Epoch 42/50\n",
      "23/23 [==============================] - 0s 19ms/step - loss: 0.0419 - accuracy: 0.9915 - val_loss: 0.2799 - val_accuracy: 0.9572\n",
      "Epoch 43/50\n",
      "23/23 [==============================] - 0s 22ms/step - loss: 0.0341 - accuracy: 0.9944 - val_loss: 0.0755 - val_accuracy: 0.9868\n",
      "Epoch 44/50\n",
      "23/23 [==============================] - 0s 20ms/step - loss: 0.0143 - accuracy: 0.9929 - val_loss: 0.1984 - val_accuracy: 0.9704\n",
      "Epoch 45/50\n",
      "23/23 [==============================] - 0s 18ms/step - loss: 0.0555 - accuracy: 0.9901 - val_loss: 0.0506 - val_accuracy: 0.9868\n",
      "Epoch 46/50\n",
      "23/23 [==============================] - 0s 18ms/step - loss: 0.0292 - accuracy: 0.9944 - val_loss: 0.0696 - val_accuracy: 0.9868\n",
      "Epoch 47/50\n",
      "23/23 [==============================] - 0s 18ms/step - loss: 0.0584 - accuracy: 0.9831 - val_loss: 0.0698 - val_accuracy: 0.9868\n",
      "Epoch 48/50\n",
      "23/23 [==============================] - 0s 18ms/step - loss: 0.0190 - accuracy: 0.9901 - val_loss: 0.0258 - val_accuracy: 0.9934\n",
      "Epoch 49/50\n",
      "23/23 [==============================] - 0s 18ms/step - loss: 0.0049 - accuracy: 0.9972 - val_loss: 0.0304 - val_accuracy: 0.9934\n",
      "Epoch 50/50\n",
      "23/23 [==============================] - 0s 18ms/step - loss: 0.0342 - accuracy: 0.9958 - val_loss: 0.0467 - val_accuracy: 0.9901\n"
     ]
    }
   ],
   "source": [
    "history = model.fit(X, y, validation_split=0.3, batch_size=32, epochs=50, shuffle=True)"
   ]
  },
  {
   "cell_type": "code",
   "execution_count": null,
   "metadata": {},
   "outputs": [],
   "source": []
  }
 ],
 "metadata": {
  "kernelspec": {
   "display_name": "Python 3",
   "language": "python",
   "name": "python3"
  },
  "language_info": {
   "codemirror_mode": {
    "name": "ipython",
    "version": 3
   },
   "file_extension": ".py",
   "mimetype": "text/x-python",
   "name": "python",
   "nbconvert_exporter": "python",
   "pygments_lexer": "ipython3",
   "version": "3.8.3"
  }
 },
 "nbformat": 4,
 "nbformat_minor": 4
}
