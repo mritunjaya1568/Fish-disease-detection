{
 "cells": [
  {
   "cell_type": "code",
   "execution_count": 1,
   "metadata": {},
   "outputs": [],
   "source": [
    "import numpy as np\n",
    "import tensorflow as tf\n",
    "import matplotlib.pyplot as plt\n",
    "from sklearn.metrics import classification_report\n",
    "from tensorflow.keras.models import Sequential, Model\n",
    "from tensorflow.keras.layers import Input\n",
    "from tensorflow.keras.layers import Dense, Flatten, BatchNormalization, Dropout, Activation, Conv2D, MaxPool2D, GlobalAveragePooling2D\n",
    "from tensorflow.keras.callbacks import TensorBoard\n",
    "from tensorflow.keras.applications.inception_v3 import InceptionV3\n",
    "\n",
    "from dataset import getDataset\n",
    "from keras.preprocessing.image import ImageDataGenerator\n",
    "from tensorflow.keras.utils import to_categorical\n",
    "\n",
    "import os\n",
    "import cv2\n",
    "import time\n",
    "import random"
   ]
  },
  {
   "cell_type": "code",
   "execution_count": 2,
   "metadata": {},
   "outputs": [
    {
     "name": "stdout",
     "output_type": "stream",
     "text": [
      "(92, 224, 224, 3) (92, 1)\n"
     ]
    },
    {
     "name": "stderr",
     "output_type": "stream",
     "text": [
      "/home/roshan_/anaconda3/envs/tf-gpu/lib/python3.9/site-packages/keras_preprocessing/image/image_data_generator.py:720: UserWarning: This ImageDataGenerator specifies `featurewise_center`, but it hasn't been fit on any training data. Fit it first by calling `.fit(numpy_data)`.\n",
      "  warnings.warn('This ImageDataGenerator specifies '\n",
      "/home/roshan_/anaconda3/envs/tf-gpu/lib/python3.9/site-packages/keras_preprocessing/image/image_data_generator.py:728: UserWarning: This ImageDataGenerator specifies `featurewise_std_normalization`, but it hasn't been fit on any training data. Fit it first by calling `.fit(numpy_data)`.\n",
      "  warnings.warn('This ImageDataGenerator specifies '\n"
     ]
    },
    {
     "data": {
      "text/plain": [
       "((1012, 224, 224, 3), (1012, 1))"
      ]
     },
     "execution_count": 2,
     "metadata": {},
     "output_type": "execute_result"
    }
   ],
   "source": [
    "IMG_SIZE = 224\n",
    "\n",
    "X, y = getDataset(IMG_SIZE)\n",
    "\n",
    "print(X.shape, y.shape)\n",
    "\n",
    "datagen = ImageDataGenerator(\n",
    "    featurewise_center=True,\n",
    "    featurewise_std_normalization=True,\n",
    "    rotation_range=20,\n",
    "    width_shift_range=0.2,\n",
    "    height_shift_range=0.2,\n",
    "    horizontal_flip=True,\n",
    "    validation_split=0.2)\n",
    "\n",
    "\n",
    "X_aug, y_aug = [], []\n",
    "\n",
    "cnt = 0\n",
    "for _X, _y in datagen.flow(X, y):    \n",
    "    for i in range(_X.shape[0]):\n",
    "        cnt += 1\n",
    "        X_aug.append(_X[i])\n",
    "        y_aug.append(_y[i])\n",
    "    \n",
    "    if cnt >= 1000:\n",
    "        break\n",
    "\n",
    "X = np.array(X_aug).reshape(-1, IMG_SIZE, IMG_SIZE, 3)\n",
    "y = np.array(y_aug).reshape(-1, 1)\n",
    "\n",
    "X.shape, y.shape"
   ]
  },
  {
   "cell_type": "code",
   "execution_count": 3,
   "metadata": {},
   "outputs": [
    {
     "name": "stdout",
     "output_type": "stream",
     "text": [
      "Downloading data from https://storage.googleapis.com/tensorflow/keras-applications/xception/xception_weights_tf_dim_ordering_tf_kernels_notop.h5\n",
      "83689472/83683744 [==============================] - 42s 0us/step\n",
      "1012 (1, 7, 7, 2048)\n"
     ]
    },
    {
     "data": {
      "text/plain": [
       "((1012, 7, 7, 2048), (1012, 1))"
      ]
     },
     "execution_count": 3,
     "metadata": {},
     "output_type": "execute_result"
    }
   ],
   "source": [
    "from tensorflow.keras.applications.xception import Xception, preprocess_input\n",
    "from tensorflow.keras.preprocessing import image\n",
    "import numpy as np\n",
    "\n",
    "model = Xception(weights='imagenet', include_top=False)\n",
    "\n",
    "X_features = []\n",
    "for img in X:\n",
    "    x = image.img_to_array(img)\n",
    "    x = np.expand_dims(x, axis=0)\n",
    "    x = preprocess_input(x)\n",
    "    features = model.predict(x)\n",
    "    \n",
    "    X_features.append(features)\n",
    "\n",
    "print(len(X_features), X_features[0].shape)\n",
    "\n",
    "h, w, c = X_features[0].shape[1:]\n",
    "X = np.array(X_features).reshape(-1, h, w, c)\n",
    "X.shape, y.shape"
   ]
  },
  {
   "cell_type": "code",
   "execution_count": 4,
   "metadata": {},
   "outputs": [
    {
     "name": "stdout",
     "output_type": "stream",
     "text": [
      "Model: \"sequential\"\n",
      "_________________________________________________________________\n",
      "Layer (type)                 Output Shape              Param #   \n",
      "=================================================================\n",
      "flatten (Flatten)            (None, 100352)            0         \n",
      "_________________________________________________________________\n",
      "dense (Dense)                (None, 64)                6422592   \n",
      "_________________________________________________________________\n",
      "activation (Activation)      (None, 64)                0         \n",
      "_________________________________________________________________\n",
      "dropout (Dropout)            (None, 64)                0         \n",
      "_________________________________________________________________\n",
      "dense_1 (Dense)              (None, 16)                1040      \n",
      "_________________________________________________________________\n",
      "activation_1 (Activation)    (None, 16)                0         \n",
      "_________________________________________________________________\n",
      "dropout_1 (Dropout)          (None, 16)                0         \n",
      "_________________________________________________________________\n",
      "dense_2 (Dense)              (None, 1)                 17        \n",
      "_________________________________________________________________\n",
      "activation_2 (Activation)    (None, 1)                 0         \n",
      "=================================================================\n",
      "Total params: 6,423,649\n",
      "Trainable params: 6,423,649\n",
      "Non-trainable params: 0\n",
      "_________________________________________________________________\n"
     ]
    }
   ],
   "source": [
    "model = Sequential()\n",
    "\n",
    "model.add(Flatten(input_shape=(X.shape[1:])))\n",
    "\n",
    "model.add(Dense(64))\n",
    "model.add(Activation('relu'))\n",
    "model.add(Dropout(0.2))\n",
    "\n",
    "model.add(Dense(16))\n",
    "model.add(Activation('relu'))\n",
    "model.add(Dropout(0.2))\n",
    "\n",
    "model.add(Dense(1))\n",
    "model.add(Activation('sigmoid'))\n",
    "\n",
    "model.compile(optimizer='adam',\n",
    "             loss='binary_crossentropy',\n",
    "             metrics=['accuracy'])\n",
    "\n",
    "model.summary()"
   ]
  },
  {
   "cell_type": "code",
   "execution_count": 5,
   "metadata": {},
   "outputs": [
    {
     "name": "stdout",
     "output_type": "stream",
     "text": [
      "Epoch 1/50\n",
      "23/23 [==============================] - 2s 44ms/step - loss: 1.8603 - accuracy: 0.6568 - val_loss: 0.3225 - val_accuracy: 0.7928\n",
      "Epoch 2/50\n",
      "23/23 [==============================] - 1s 32ms/step - loss: 0.5500 - accuracy: 0.7895 - val_loss: 0.2847 - val_accuracy: 0.9013\n",
      "Epoch 3/50\n",
      "23/23 [==============================] - 1s 32ms/step - loss: 0.3086 - accuracy: 0.8884 - val_loss: 0.1167 - val_accuracy: 0.9868\n",
      "Epoch 4/50\n",
      "23/23 [==============================] - 1s 33ms/step - loss: 0.2327 - accuracy: 0.9181 - val_loss: 0.0668 - val_accuracy: 0.9868\n",
      "Epoch 5/50\n",
      "23/23 [==============================] - 1s 32ms/step - loss: 0.1377 - accuracy: 0.9407 - val_loss: 0.1188 - val_accuracy: 0.9572\n",
      "Epoch 6/50\n",
      "23/23 [==============================] - 1s 32ms/step - loss: 0.1311 - accuracy: 0.9619 - val_loss: 0.0575 - val_accuracy: 0.9934\n",
      "Epoch 7/50\n",
      "23/23 [==============================] - 1s 33ms/step - loss: 0.0516 - accuracy: 0.9788 - val_loss: 0.0283 - val_accuracy: 0.9934\n",
      "Epoch 8/50\n",
      "23/23 [==============================] - 1s 33ms/step - loss: 0.0440 - accuracy: 0.9831 - val_loss: 0.0154 - val_accuracy: 0.9967\n",
      "Epoch 9/50\n",
      "23/23 [==============================] - 1s 32ms/step - loss: 0.0570 - accuracy: 0.9831 - val_loss: 0.0254 - val_accuracy: 0.9901\n",
      "Epoch 10/50\n",
      "23/23 [==============================] - 1s 33ms/step - loss: 0.0376 - accuracy: 0.9873 - val_loss: 0.0054 - val_accuracy: 1.0000\n",
      "Epoch 11/50\n",
      "23/23 [==============================] - 1s 32ms/step - loss: 0.0473 - accuracy: 0.9831 - val_loss: 0.0284 - val_accuracy: 0.9868\n",
      "Epoch 12/50\n",
      "23/23 [==============================] - 1s 32ms/step - loss: 0.0407 - accuracy: 0.9816 - val_loss: 0.0203 - val_accuracy: 0.9934\n",
      "Epoch 13/50\n",
      "23/23 [==============================] - 1s 33ms/step - loss: 0.0537 - accuracy: 0.9816 - val_loss: 0.0281 - val_accuracy: 0.9868\n",
      "Epoch 14/50\n",
      "23/23 [==============================] - 1s 32ms/step - loss: 0.0511 - accuracy: 0.9845 - val_loss: 0.0336 - val_accuracy: 0.9868\n",
      "Epoch 15/50\n",
      "23/23 [==============================] - 1s 33ms/step - loss: 0.0185 - accuracy: 0.9929 - val_loss: 0.0268 - val_accuracy: 0.9901\n",
      "Epoch 16/50\n",
      "23/23 [==============================] - 1s 33ms/step - loss: 0.0262 - accuracy: 0.9901 - val_loss: 0.0210 - val_accuracy: 0.9901\n",
      "Epoch 17/50\n",
      "23/23 [==============================] - 1s 32ms/step - loss: 0.0217 - accuracy: 0.9958 - val_loss: 0.0280 - val_accuracy: 0.9901\n",
      "Epoch 18/50\n",
      "23/23 [==============================] - 1s 33ms/step - loss: 0.0134 - accuracy: 0.9958 - val_loss: 0.0185 - val_accuracy: 0.9967\n",
      "Epoch 19/50\n",
      "23/23 [==============================] - 1s 32ms/step - loss: 0.0369 - accuracy: 0.9873 - val_loss: 0.0272 - val_accuracy: 0.9868\n",
      "Epoch 20/50\n",
      "23/23 [==============================] - 1s 32ms/step - loss: 0.0388 - accuracy: 0.9760 - val_loss: 0.0482 - val_accuracy: 0.9868\n",
      "Epoch 21/50\n",
      "23/23 [==============================] - 1s 32ms/step - loss: 0.0264 - accuracy: 0.9901 - val_loss: 0.0211 - val_accuracy: 0.9901\n",
      "Epoch 22/50\n",
      "23/23 [==============================] - 1s 33ms/step - loss: 0.0219 - accuracy: 0.9901 - val_loss: 0.0278 - val_accuracy: 0.9934\n",
      "Epoch 23/50\n",
      "23/23 [==============================] - 1s 33ms/step - loss: 0.0390 - accuracy: 0.9901 - val_loss: 0.0018 - val_accuracy: 1.0000\n",
      "Epoch 24/50\n",
      "23/23 [==============================] - 1s 33ms/step - loss: 0.0250 - accuracy: 0.9873 - val_loss: 0.0253 - val_accuracy: 0.9901\n",
      "Epoch 25/50\n",
      "23/23 [==============================] - 1s 33ms/step - loss: 0.0260 - accuracy: 0.9915 - val_loss: 0.0156 - val_accuracy: 0.9868\n",
      "Epoch 26/50\n",
      "23/23 [==============================] - 1s 33ms/step - loss: 0.0106 - accuracy: 0.9944 - val_loss: 0.0124 - val_accuracy: 0.9934\n",
      "Epoch 27/50\n",
      "23/23 [==============================] - 1s 33ms/step - loss: 0.0231 - accuracy: 0.9944 - val_loss: 0.0133 - val_accuracy: 0.9901\n",
      "Epoch 28/50\n",
      "23/23 [==============================] - 1s 34ms/step - loss: 0.0197 - accuracy: 0.9873 - val_loss: 0.0164 - val_accuracy: 0.9901\n",
      "Epoch 29/50\n",
      "23/23 [==============================] - 1s 34ms/step - loss: 0.0038 - accuracy: 0.9986 - val_loss: 0.0080 - val_accuracy: 0.9967\n",
      "Epoch 30/50\n",
      "23/23 [==============================] - 1s 33ms/step - loss: 0.0074 - accuracy: 0.9958 - val_loss: 0.0095 - val_accuracy: 0.9967\n",
      "Epoch 31/50\n",
      "23/23 [==============================] - 1s 33ms/step - loss: 0.0082 - accuracy: 0.9929 - val_loss: 0.0286 - val_accuracy: 0.9901\n",
      "Epoch 32/50\n",
      "23/23 [==============================] - 1s 33ms/step - loss: 0.0108 - accuracy: 0.9958 - val_loss: 0.0352 - val_accuracy: 0.9901\n",
      "Epoch 33/50\n",
      "23/23 [==============================] - 1s 33ms/step - loss: 0.0073 - accuracy: 0.9958 - val_loss: 0.0412 - val_accuracy: 0.9868\n",
      "Epoch 34/50\n",
      "23/23 [==============================] - 1s 33ms/step - loss: 0.0112 - accuracy: 0.9958 - val_loss: 0.0200 - val_accuracy: 0.9934\n",
      "Epoch 35/50\n",
      "23/23 [==============================] - 1s 33ms/step - loss: 0.0059 - accuracy: 0.9972 - val_loss: 0.0214 - val_accuracy: 0.9901\n",
      "Epoch 36/50\n",
      "23/23 [==============================] - 1s 33ms/step - loss: 0.0040 - accuracy: 0.9972 - val_loss: 0.0302 - val_accuracy: 0.9934\n",
      "Epoch 37/50\n",
      "23/23 [==============================] - 1s 33ms/step - loss: 0.0226 - accuracy: 0.9929 - val_loss: 0.0278 - val_accuracy: 0.9901\n",
      "Epoch 38/50\n",
      "23/23 [==============================] - 1s 32ms/step - loss: 0.0037 - accuracy: 0.9986 - val_loss: 0.0144 - val_accuracy: 0.9967\n",
      "Epoch 39/50\n",
      "23/23 [==============================] - 1s 33ms/step - loss: 0.0055 - accuracy: 0.9972 - val_loss: 0.0459 - val_accuracy: 0.9868\n",
      "Epoch 40/50\n",
      "23/23 [==============================] - 1s 33ms/step - loss: 0.0030 - accuracy: 0.9986 - val_loss: 0.0122 - val_accuracy: 0.9967\n",
      "Epoch 41/50\n",
      "23/23 [==============================] - 1s 33ms/step - loss: 0.0099 - accuracy: 0.9972 - val_loss: 0.0407 - val_accuracy: 0.9868\n",
      "Epoch 42/50\n",
      "23/23 [==============================] - 1s 33ms/step - loss: 0.2474 - accuracy: 0.9548 - val_loss: 0.0090 - val_accuracy: 0.9934\n",
      "Epoch 43/50\n",
      "23/23 [==============================] - 1s 33ms/step - loss: 0.1893 - accuracy: 0.9590 - val_loss: 0.0150 - val_accuracy: 0.9934\n",
      "Epoch 44/50\n",
      "23/23 [==============================] - 1s 32ms/step - loss: 0.0471 - accuracy: 0.9816 - val_loss: 0.0127 - val_accuracy: 0.9934\n",
      "Epoch 45/50\n",
      "23/23 [==============================] - 1s 33ms/step - loss: 0.0198 - accuracy: 0.9958 - val_loss: 0.0158 - val_accuracy: 0.9967\n",
      "Epoch 46/50\n",
      "23/23 [==============================] - 1s 33ms/step - loss: 0.0139 - accuracy: 0.9972 - val_loss: 0.0353 - val_accuracy: 0.9967\n",
      "Epoch 47/50\n",
      "23/23 [==============================] - 1s 33ms/step - loss: 0.0143 - accuracy: 0.9929 - val_loss: 0.0318 - val_accuracy: 0.9934\n",
      "Epoch 48/50\n",
      "23/23 [==============================] - 1s 33ms/step - loss: 0.0196 - accuracy: 0.9915 - val_loss: 0.0434 - val_accuracy: 0.9901\n",
      "Epoch 49/50\n",
      "23/23 [==============================] - 1s 32ms/step - loss: 0.0079 - accuracy: 0.9972 - val_loss: 0.0470 - val_accuracy: 0.9934\n",
      "Epoch 50/50\n",
      "23/23 [==============================] - 1s 33ms/step - loss: 0.0443 - accuracy: 0.9944 - val_loss: 0.0208 - val_accuracy: 0.9901\n"
     ]
    }
   ],
   "source": [
    "history = model.fit(X, y, validation_split=0.3, batch_size=32, epochs=50, shuffle=True)"
   ]
  },
  {
   "cell_type": "code",
   "execution_count": null,
   "metadata": {},
   "outputs": [],
   "source": []
  }
 ],
 "metadata": {
  "kernelspec": {
   "display_name": "Python 3",
   "language": "python",
   "name": "python3"
  },
  "language_info": {
   "codemirror_mode": {
    "name": "ipython",
    "version": 3
   },
   "file_extension": ".py",
   "mimetype": "text/x-python",
   "name": "python",
   "nbconvert_exporter": "python",
   "pygments_lexer": "ipython3",
   "version": "3.8.3"
  }
 },
 "nbformat": 4,
 "nbformat_minor": 4
}
